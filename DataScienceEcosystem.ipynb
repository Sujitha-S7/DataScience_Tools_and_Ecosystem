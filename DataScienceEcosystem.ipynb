{
 "cells": [
  {
   "cell_type": "markdown",
   "id": "b2024885",
   "metadata": {},
   "source": [
    "# Exercise 2: To create title"
   ]
  },
  {
   "cell_type": "markdown",
   "id": "1e39038a",
   "metadata": {},
   "source": [
    "# Data Science Tools and Ecosystem"
   ]
  },
  {
   "cell_type": "markdown",
   "id": "d968ab00",
   "metadata": {},
   "source": [
    "# Exercise 3: To create introduction"
   ]
  },
  {
   "cell_type": "markdown",
   "id": "8866a37b",
   "metadata": {},
   "source": [
    "In this notebook, Data Science Tools and Ecosystem are summarized."
   ]
  },
  {
   "cell_type": "markdown",
   "id": "cfdbe1df",
   "metadata": {},
   "source": [
    "#### Exercise 10: To insert a new markdown cell below the exercise 3 to list the objectives"
   ]
  },
  {
   "cell_type": "markdown",
   "id": "eac2fe29",
   "metadata": {},
   "source": [
    "**Objectives:**\n",
    "- Python\n",
    "- R language\n",
    "- Scala\n",
    "- Java\n",
    "- C++"
   ]
  },
  {
   "cell_type": "markdown",
   "id": "67e4df6b",
   "metadata": {},
   "source": [
    "# Exercise 4: To list data science languages"
   ]
  },
  {
   "cell_type": "markdown",
   "id": "4ca8e714",
   "metadata": {},
   "source": [
    "Some of the popular languages that data scientists use are:\n",
    "\n",
    "1. Python\n",
    "2. R Language\n",
    "3. SQL-Structured query language\n",
    "4. Java\n",
    "5. Julia\n",
    "6. Scala\n",
    "7. C++"
   ]
  },
  {
   "cell_type": "markdown",
   "id": "bcf126af",
   "metadata": {},
   "source": [
    "# Exercise 5: To list the data science libraries"
   ]
  },
  {
   "cell_type": "markdown",
   "id": "335c844e",
   "metadata": {},
   "source": [
    "Some of the commonly used libraries used by Data Scientists include:\n",
    "\n",
    " 1. Numpy\n",
    " 2. Pandas\n",
    " 3. Matplotlib\n",
    " 4. Scikit-learn\n",
    " 5. Keras\n",
    " 6. TensorFlow\n",
    " 7. PyTorch\n",
    " 8. SciPy\n",
    " 9. ggplot2"
   ]
  },
  {
   "cell_type": "markdown",
   "id": "f37b4754",
   "metadata": {},
   "source": [
    "# Exercise 6: To create table of Data Science tools"
   ]
  },
  {
   "cell_type": "markdown",
   "id": "bcbeb8d2",
   "metadata": {},
   "source": [
    "\n",
    "| Data Science Tools  |\n",
    "|---------------------|\n",
    "|  Jupyter Notebook   |                  \n",
    "| |\n",
    "|  R studio           |\n",
    "||\n",
    "|  VS code with Python|\n",
    "||\n",
    "| Apache Spark        |\n",
    "||"
   ]
  },
  {
   "cell_type": "markdown",
   "id": "592a19ff",
   "metadata": {},
   "source": [
    "# Exercise 7: Introducing arithmetic expression examples"
   ]
  },
  {
   "cell_type": "markdown",
   "id": "f02b9d73",
   "metadata": {},
   "source": [
    "### Below are a few examples of evaluating arithmatic expresssion"
   ]
  },
  {
   "cell_type": "markdown",
   "id": "ed52d3af",
   "metadata": {},
   "source": [
    "# Exercise 8: To multiply and add numbers"
   ]
  },
  {
   "cell_type": "code",
   "execution_count": 7,
   "id": "27737faa",
   "metadata": {},
   "outputs": [
    {
     "data": {
      "text/plain": [
       "17"
      ]
     },
     "execution_count": 7,
     "metadata": {},
     "output_type": "execute_result"
    }
   ],
   "source": [
    "#This is a simple arithmetic expression to multiply then add integers\n",
    "(3*4)+5"
   ]
  },
  {
   "cell_type": "markdown",
   "id": "1a5d354f",
   "metadata": {},
   "source": [
    "# Exercise 9: To convert minutes to hours"
   ]
  },
  {
   "cell_type": "code",
   "execution_count": 6,
   "id": "4e4c6633",
   "metadata": {},
   "outputs": [
    {
     "name": "stdout",
     "output_type": "stream",
     "text": [
      "Hours: 3.3333333333333335\n"
     ]
    }
   ],
   "source": [
    "#This will convert 200 minutes to hours by dividing by 60\n",
    "minutes=200\n",
    "hours=minutes/60\n",
    "print(\"Hours:\",hours)"
   ]
  },
  {
   "cell_type": "markdown",
   "id": "04a29e99",
   "metadata": {},
   "source": [
    "# Exercise 11: To indicate the Author's name"
   ]
  },
  {
   "cell_type": "markdown",
   "id": "65b0e63f",
   "metadata": {},
   "source": [
    "# Author\n",
    "Sujitha S"
   ]
  }
 ],
 "metadata": {
  "kernelspec": {
   "display_name": "Python 3",
   "language": "python",
   "name": "python3"
  },
  "language_info": {
   "codemirror_mode": {
    "name": "ipython",
    "version": 3
   },
   "file_extension": ".py",
   "mimetype": "text/x-python",
   "name": "python",
   "nbconvert_exporter": "python",
   "pygments_lexer": "ipython3",
   "version": "3.8.8"
  }
 },
 "nbformat": 4,
 "nbformat_minor": 5
}
